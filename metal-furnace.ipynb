{
 "cells": [
  {
   "cell_type": "code",
   "execution_count": 1,
   "id": "78b2c38f",
   "metadata": {
    "_cell_guid": "b1076dfc-b9ad-4769-8c92-a6c4dae69d19",
    "_uuid": "8f2839f25d086af736a60e9eeb907d3b93b6e0e5",
    "execution": {
     "iopub.execute_input": "2022-11-25T18:02:17.269803Z",
     "iopub.status.busy": "2022-11-25T18:02:17.269396Z",
     "iopub.status.idle": "2022-11-25T18:02:17.288176Z",
     "shell.execute_reply": "2022-11-25T18:02:17.286467Z"
    },
    "papermill": {
     "duration": 0.034169,
     "end_time": "2022-11-25T18:02:17.290756",
     "exception": false,
     "start_time": "2022-11-25T18:02:17.256587",
     "status": "completed"
    },
    "tags": []
   },
   "outputs": [
    {
     "name": "stdout",
     "output_type": "stream",
     "text": [
      "/kaggle/input/metalfurnace/Test1.csv\n",
      "/kaggle/input/metalfurnace/submision.csv\n",
      "/kaggle/input/metalfurnace/Train2.csv\n"
     ]
    }
   ],
   "source": [
    "# This Python 3 environment comes with many helpful analytics libraries installed\n",
    "# It is defined by the kaggle/python Docker image: https://github.com/kaggle/docker-python\n",
    "# For example, here's several helpful packages to load\n",
    "\n",
    "import numpy as np # linear algebra\n",
    "import pandas as pd # data processing, CSV file I/O (e.g. pd.read_csv)\n",
    "\n",
    "# Input data files are available in the read-only \"../input/\" directory\n",
    "# For example, running this (by clicking run or pressing Shift+Enter) will list all files under the input directory\n",
    "\n",
    "import os\n",
    "for dirname, _, filenames in os.walk('/kaggle/input'):\n",
    "    for filename in filenames:\n",
    "        print(os.path.join(dirname, filename))\n",
    "\n",
    "# You can write up to 20GB to the current directory (/kaggle/working/) that gets preserved as output when you create a version using \"Save & Run All\" \n",
    "# You can also write temporary files to /kaggle/temp/, but they won't be saved outside of the current session"
   ]
  },
  {
   "cell_type": "markdown",
   "id": "f8c06722",
   "metadata": {
    "papermill": {
     "duration": 0.011481,
     "end_time": "2022-11-25T18:02:17.313520",
     "exception": false,
     "start_time": "2022-11-25T18:02:17.302039",
     "status": "completed"
    },
    "tags": []
   },
   "source": [
    "# #Import Libraries"
   ]
  },
  {
   "cell_type": "code",
   "execution_count": 2,
   "id": "a7684511",
   "metadata": {
    "execution": {
     "iopub.execute_input": "2022-11-25T18:02:17.336455Z",
     "iopub.status.busy": "2022-11-25T18:02:17.335860Z",
     "iopub.status.idle": "2022-11-25T18:02:18.909988Z",
     "shell.execute_reply": "2022-11-25T18:02:18.908996Z"
    },
    "papermill": {
     "duration": 1.588386,
     "end_time": "2022-11-25T18:02:18.912213",
     "exception": false,
     "start_time": "2022-11-25T18:02:17.323827",
     "status": "completed"
    },
    "tags": []
   },
   "outputs": [],
   "source": [
    "\n",
    "import pandas as pd\n",
    "import seaborn as sns\n",
    "from sklearn.model_selection import train_test_split\n",
    "from sklearn.linear_model import LogisticRegression\n",
    "from sklearn.ensemble import RandomForestClassifier\n",
    "import matplotlib.pyplot as plt\n",
    "import numpy as np\n",
    "from sklearn.metrics import confusion_matrix\n",
    "from sklearn.metrics import accuracy_score\n",
    "from sklearn.metrics import f1_score\n",
    "from sklearn.metrics import precision_score"
   ]
  },
  {
   "cell_type": "markdown",
   "id": "424b18a5",
   "metadata": {
    "papermill": {
     "duration": 0.010425,
     "end_time": "2022-11-25T18:02:18.933364",
     "exception": false,
     "start_time": "2022-11-25T18:02:18.922939",
     "status": "completed"
    },
    "tags": []
   },
   "source": [
    "# #read data"
   ]
  },
  {
   "cell_type": "code",
   "execution_count": 3,
   "id": "b54f7235",
   "metadata": {
    "execution": {
     "iopub.execute_input": "2022-11-25T18:02:18.956780Z",
     "iopub.status.busy": "2022-11-25T18:02:18.955800Z",
     "iopub.status.idle": "2022-11-25T18:02:18.983282Z",
     "shell.execute_reply": "2022-11-25T18:02:18.982653Z"
    },
    "papermill": {
     "duration": 0.041505,
     "end_time": "2022-11-25T18:02:18.985565",
     "exception": false,
     "start_time": "2022-11-25T18:02:18.944060",
     "status": "completed"
    },
    "tags": []
   },
   "outputs": [],
   "source": [
    "\n",
    "data=pd.read_csv('/kaggle/input/metalfurnace/Train2.csv')\n"
   ]
  },
  {
   "cell_type": "markdown",
   "id": "ce8a1ca1",
   "metadata": {
    "papermill": {
     "duration": 0.010088,
     "end_time": "2022-11-25T18:02:19.007786",
     "exception": false,
     "start_time": "2022-11-25T18:02:18.997698",
     "status": "completed"
    },
    "tags": []
   },
   "source": [
    "# #print 5 frist data"
   ]
  },
  {
   "cell_type": "code",
   "execution_count": 4,
   "id": "49e9ffca",
   "metadata": {
    "execution": {
     "iopub.execute_input": "2022-11-25T18:02:19.030440Z",
     "iopub.status.busy": "2022-11-25T18:02:19.029623Z",
     "iopub.status.idle": "2022-11-25T18:02:19.053319Z",
     "shell.execute_reply": "2022-11-25T18:02:19.052135Z"
    },
    "papermill": {
     "duration": 0.037517,
     "end_time": "2022-11-25T18:02:19.055544",
     "exception": false,
     "start_time": "2022-11-25T18:02:19.018027",
     "status": "completed"
    },
    "tags": []
   },
   "outputs": [
    {
     "name": "stdout",
     "output_type": "stream",
     "text": [
      "         f0       f1        f2        f3        f4        f5        f6  \\\n",
      "0  1.848564 -0.26425 -0.461423  0.409400  1.305455  2.329398  0.370965   \n",
      "1 -0.825098 -0.26425  3.032397 -2.442599  1.305455 -0.276144  0.370965   \n",
      "2  1.848564 -0.26425 -0.461423  0.409400  1.305455  2.329398  0.370965   \n",
      "3  0.511733 -0.26425 -0.461423  0.409400 -0.525726 -0.276144  0.370965   \n",
      "4 -0.825098 -0.26425 -0.461423  0.409400 -0.525726 -0.276144  0.370965   \n",
      "\n",
      "         f7        f8   f9  ...       f19       f20       f21       f22  \\\n",
      "0  0.090167  0.107958  0.0  ...  0.085505  0.233285 -1.080663  0.443257   \n",
      "1  0.090167  0.107958  0.0  ...  0.085505  0.233285 -1.080663 -0.232546   \n",
      "2  0.090167  0.107958  0.0  ...  0.085505  0.233285  0.925358  1.459782   \n",
      "3  0.090167  0.107958  0.0  ...  0.085505  0.233285  0.925358 -0.008030   \n",
      "4  0.090167  0.107958  0.0  ...  0.085505  0.233285  0.925358 -0.573268   \n",
      "\n",
      "        f23       f24       f25       f26       f27  grade  \n",
      "0 -0.406121 -0.687687  0.271886  3.727218  0.102129      2  \n",
      "1 -0.406366 -0.687687  0.271886 -0.232472  0.102129      4  \n",
      "2  1.221876  1.877777  0.271886 -0.232472  0.102129      2  \n",
      "3 -0.406366  1.504523  0.271886 -0.232472  0.102129      2  \n",
      "4 -1.164793  1.877777  0.271886 -0.232472  0.102129      2  \n",
      "\n",
      "[5 rows x 29 columns]\n"
     ]
    }
   ],
   "source": [
    "\n",
    "print(data.head())"
   ]
  },
  {
   "cell_type": "markdown",
   "id": "fc42d8d4",
   "metadata": {
    "papermill": {
     "duration": 0.009629,
     "end_time": "2022-11-25T18:02:19.075232",
     "exception": false,
     "start_time": "2022-11-25T18:02:19.065603",
     "status": "completed"
    },
    "tags": []
   },
   "source": [
    "# #print data columns"
   ]
  },
  {
   "cell_type": "code",
   "execution_count": 5,
   "id": "8d82b41b",
   "metadata": {
    "execution": {
     "iopub.execute_input": "2022-11-25T18:02:19.097503Z",
     "iopub.status.busy": "2022-11-25T18:02:19.097134Z",
     "iopub.status.idle": "2022-11-25T18:02:19.102703Z",
     "shell.execute_reply": "2022-11-25T18:02:19.101362Z"
    },
    "papermill": {
     "duration": 0.020464,
     "end_time": "2022-11-25T18:02:19.106047",
     "exception": false,
     "start_time": "2022-11-25T18:02:19.085583",
     "status": "completed"
    },
    "tags": []
   },
   "outputs": [
    {
     "name": "stdout",
     "output_type": "stream",
     "text": [
      "column 1 is :  f0\n",
      "column 2 is :  f1\n",
      "column 3 is :  f2\n",
      "column 4 is :  f3\n",
      "column 5 is :  f4\n",
      "column 6 is :  f5\n",
      "column 7 is :  f6\n",
      "column 8 is :  f7\n",
      "column 9 is :  f8\n",
      "column 10 is :  f9\n",
      "column 11 is :  f10\n",
      "column 12 is :  f11\n",
      "column 13 is :  f12\n",
      "column 14 is :  f13\n",
      "column 15 is :  f14\n",
      "column 16 is :  f15\n",
      "column 17 is :  f16\n",
      "column 18 is :  f17\n",
      "column 19 is :  f18\n",
      "column 20 is :  f19\n",
      "column 21 is :  f20\n",
      "column 22 is :  f21\n",
      "column 23 is :  f22\n",
      "column 24 is :  f23\n",
      "column 25 is :  f24\n",
      "column 26 is :  f25\n",
      "column 27 is :  f26\n",
      "column 28 is :  f27\n",
      "column 29 is :  grade\n"
     ]
    }
   ],
   "source": [
    "\n",
    "x=1\n",
    "for col in data.columns:\n",
    "    print(f'column {x} is : ',col)\n",
    "    x+=1"
   ]
  },
  {
   "cell_type": "markdown",
   "id": "36109a84",
   "metadata": {
    "papermill": {
     "duration": 0.010166,
     "end_time": "2022-11-25T18:02:19.128138",
     "exception": false,
     "start_time": "2022-11-25T18:02:19.117972",
     "status": "completed"
    },
    "tags": []
   },
   "source": [
    "# #data corr"
   ]
  },
  {
   "cell_type": "code",
   "execution_count": 6,
   "id": "4ea33101",
   "metadata": {
    "execution": {
     "iopub.execute_input": "2022-11-25T18:02:19.150758Z",
     "iopub.status.busy": "2022-11-25T18:02:19.150425Z",
     "iopub.status.idle": "2022-11-25T18:02:19.518087Z",
     "shell.execute_reply": "2022-11-25T18:02:19.516801Z"
    },
    "papermill": {
     "duration": 0.38165,
     "end_time": "2022-11-25T18:02:19.520168",
     "exception": false,
     "start_time": "2022-11-25T18:02:19.138518",
     "status": "completed"
    },
    "tags": []
   },
   "outputs": [
    {
     "name": "stdout",
     "output_type": "stream",
     "text": [
      "             f0        f1        f2        f3        f4        f5        f6  \\\n",
      "f0     1.000000 -0.087557 -0.291796  0.179960 -0.296899  0.184263  0.306082   \n",
      "f1    -0.087557  1.000000 -0.121931  0.090127  0.339716 -0.072971  0.098027   \n",
      "f2    -0.291796 -0.121931  1.000000 -0.803749  0.394771 -0.127419  0.158973   \n",
      "f3     0.179960  0.090127 -0.803749  1.000000 -0.526030  0.113053 -0.137766   \n",
      "f4    -0.296899  0.339716  0.394771 -0.526030  1.000000  0.360494 -0.103868   \n",
      "f5     0.184263 -0.072971 -0.127419  0.113053  0.360494  1.000000  0.102440   \n",
      "f6     0.306082  0.098027  0.158973 -0.137766 -0.103868  0.102440  1.000000   \n",
      "f7    -0.166679  0.023827  0.041605 -0.036914 -0.117709 -0.369184 -0.033449   \n",
      "f8    -0.151461  0.028528  0.049814 -0.044198  0.056757  0.029812 -0.040049   \n",
      "f9          NaN       NaN       NaN       NaN       NaN       NaN       NaN   \n",
      "f10    0.118728  0.097280  0.096463 -0.000780  0.087302  0.084760 -0.146855   \n",
      "f11    0.073885 -0.263661 -0.049093  0.069306 -0.225164 -0.133452 -0.097042   \n",
      "f12    0.098320 -0.043437  0.022153 -0.066381  0.036328  0.139410 -0.001880   \n",
      "f13    0.020911  0.124753  0.086467 -0.121786  0.202293  0.130368 -0.072636   \n",
      "f14   -0.007153  0.045693  0.079788 -0.070792 -0.049823  0.047750  0.318830   \n",
      "f15   -0.021220  0.026122  0.045613 -0.040471 -0.008370  0.027298  0.165427   \n",
      "f16    0.017809  0.081621 -0.053795  0.069306  0.057643  0.085295  0.025746   \n",
      "f17   -0.020568  0.010621  0.018546 -0.016455 -0.052471 -0.090248 -0.014910   \n",
      "f18   -0.020208  0.048245  0.084244 -0.074746 -0.037747  0.050417  0.324194   \n",
      "f19   -0.142186  0.022595  0.039454 -0.035006 -0.085527 -0.269845 -0.031719   \n",
      "f20    0.026806 -0.205633 -0.064657  0.091617 -0.117649  0.064420 -0.041828   \n",
      "f21    0.084432 -0.281252 -0.138899  0.220959 -0.248192 -0.084126 -0.035688   \n",
      "f22    0.016310  0.219699  0.002993 -0.011187  0.174778  0.087023  0.069079   \n",
      "f23    0.063640 -0.024917 -0.046187  0.082899 -0.031160  0.074492  0.053137   \n",
      "f24    0.060536 -0.177757 -0.110863  0.146578 -0.200167 -0.070268  0.005136   \n",
      "f25    0.060307  0.071846 -0.037021 -0.039733  0.112299  0.075080 -0.075205   \n",
      "f26   -0.044962  0.359568  0.124794 -0.134330  0.233312 -0.027587  0.062736   \n",
      "f27    0.016002  0.026987  0.047124 -0.041811  0.053692  0.028202 -0.037886   \n",
      "grade -0.239340 -0.007757  0.419093 -0.328325  0.201367 -0.255740 -0.246887   \n",
      "\n",
      "             f7        f8  f9  ...       f19       f20       f21       f22  \\\n",
      "f0    -0.166679 -0.151461 NaN  ... -0.142186  0.026806  0.084432  0.016310   \n",
      "f1     0.023827  0.028528 NaN  ...  0.022595 -0.205633 -0.281252  0.219699   \n",
      "f2     0.041605  0.049814 NaN  ...  0.039454 -0.064657 -0.138899  0.002993   \n",
      "f3    -0.036914 -0.044198 NaN  ... -0.035006  0.091617  0.220959 -0.011187   \n",
      "f4    -0.117709  0.056757 NaN  ... -0.085527 -0.117649 -0.248192  0.174778   \n",
      "f5    -0.369184  0.029812 NaN  ... -0.269845  0.064420 -0.084126  0.087023   \n",
      "f6    -0.033449 -0.040049 NaN  ... -0.031719 -0.041828 -0.035688  0.069079   \n",
      "f7     1.000000 -0.009734 NaN  ...  0.709296 -0.021035 -0.083437 -0.072520   \n",
      "f8    -0.009734  1.000000 NaN  ... -0.009231 -0.025185 -0.034930 -0.025941   \n",
      "f9          NaN       NaN NaN  ...       NaN       NaN       NaN       NaN   \n",
      "f10   -0.035695 -0.042738 NaN  ... -0.033849 -0.092351 -0.224516  0.065463   \n",
      "f11   -0.027851 -0.033346 NaN  ... -0.026411  0.031358  0.207576 -0.117553   \n",
      "f12   -0.049468 -0.059228 NaN  ... -0.046910 -0.072261 -0.198529 -0.026835   \n",
      "f13   -0.042568 -0.050967 NaN  ... -0.040367 -0.110134 -0.428482  0.101937   \n",
      "f14   -0.015591 -0.018668 NaN  ... -0.014785 -0.040339 -0.025114  0.058831   \n",
      "f15   -0.008913 -0.010672 NaN  ... -0.008452 -0.023061 -0.025374 -0.002924   \n",
      "f16   -0.027851 -0.033346 NaN  ... -0.026411 -0.072057 -0.044861  0.127715   \n",
      "f17   -0.003624 -0.004339 NaN  ... -0.003437 -0.009377  0.043436  0.018462   \n",
      "f18   -0.016462 -0.019710 NaN  ... -0.015611 -0.042592 -0.059072  0.023094   \n",
      "f19    0.709296 -0.009231 NaN  ...  1.000000 -0.019947 -0.036242 -0.045924   \n",
      "f20   -0.021035 -0.025185 NaN  ... -0.019947  1.000000  0.237478 -0.133837   \n",
      "f21   -0.083437 -0.034930 NaN  ... -0.036242  0.237478  1.000000 -0.188601   \n",
      "f22   -0.072520 -0.025941 NaN  ... -0.045924 -0.133837 -0.188601  1.000000   \n",
      "f23    0.018964 -0.045220 NaN  ...  0.060286  0.064338  0.202476 -0.006743   \n",
      "f24   -0.043453 -0.021827 NaN  ... -0.002804  0.157507  0.636357 -0.103756   \n",
      "f25   -0.024515 -0.029352 NaN  ...  0.050668 -0.063427 -0.142510  0.168884   \n",
      "f26    0.020961  0.025097 NaN  ...  0.019878 -0.113195 -0.251224  0.413066   \n",
      "f27   -0.009209 -0.011026 NaN  ... -0.008733 -0.023825  0.110367 -0.042389   \n",
      "grade  0.147907  0.108575 NaN  ...  0.128954 -0.010597 -0.083743  0.050285   \n",
      "\n",
      "            f23       f24       f25       f26       f27     grade  \n",
      "f0     0.063640  0.060536  0.060307 -0.044962  0.016002 -0.239340  \n",
      "f1    -0.024917 -0.177757  0.071846  0.359568  0.026987 -0.007757  \n",
      "f2    -0.046187 -0.110863 -0.037021  0.124794  0.047124  0.419093  \n",
      "f3     0.082899  0.146578 -0.039733 -0.134330 -0.041811 -0.328325  \n",
      "f4    -0.031160 -0.200167  0.112299  0.233312  0.053692  0.201367  \n",
      "f5     0.074492 -0.070268  0.075080 -0.027587  0.028202 -0.255740  \n",
      "f6     0.053137  0.005136 -0.075205  0.062736 -0.037886 -0.246887  \n",
      "f7     0.018964 -0.043453 -0.024515  0.020961 -0.009209  0.147907  \n",
      "f8    -0.045220 -0.021827 -0.029352  0.025097 -0.011026  0.108575  \n",
      "f9          NaN       NaN       NaN       NaN       NaN       NaN  \n",
      "f10   -0.037307 -0.165708  0.014588  0.092030  0.034173  0.058662  \n",
      "f11   -0.091327  0.125755 -0.083980 -0.236226 -0.031545 -0.019703  \n",
      "f12   -0.011200 -0.120647 -0.127848 -0.093766 -0.056030  0.029483  \n",
      "f13   -0.080349 -0.296006 -0.020009  0.109750 -0.048215  0.144688  \n",
      "f14    0.063765  0.034417 -0.047014  0.040198 -0.017660 -0.265062  \n",
      "f15   -0.033665  0.005913 -0.026877  0.022981 -0.010096 -0.151531  \n",
      "f16    0.175753 -0.020610 -0.083980  0.071806  0.149549 -0.019703  \n",
      "f17   -0.013698  0.027640 -0.010928  0.009344 -0.004105  0.129703  \n",
      "f18    0.073039 -0.044707 -0.049639  0.042443 -0.018646 -0.279865  \n",
      "f19    0.060286 -0.002804  0.050668  0.019878 -0.008733  0.128954  \n",
      "f20    0.064338  0.157507 -0.063427 -0.113195 -0.023825 -0.010597  \n",
      "f21    0.202476  0.636357 -0.142510 -0.251224  0.110367 -0.083743  \n",
      "f22   -0.006743 -0.103756  0.168884  0.413066 -0.042389  0.050285  \n",
      "f23    1.000000  0.161796 -0.123927  0.013312  0.000223 -0.088043  \n",
      "f24    0.161796  1.000000 -0.148234 -0.159868  0.070232 -0.053933  \n",
      "f25   -0.123927 -0.148234  1.000000  0.063206 -0.027767 -0.065028  \n",
      "f26    0.013312 -0.159868  0.063206  1.000000  0.023742  0.052359  \n",
      "f27    0.000223  0.070232 -0.027767  0.023742  1.000000  0.005488  \n",
      "grade -0.088043 -0.053933 -0.065028  0.052359  0.005488  1.000000  \n",
      "\n",
      "[29 rows x 29 columns]\n"
     ]
    },
    {
     "data": {
      "text/plain": [
       "<AxesSubplot:>"
      ]
     },
     "execution_count": 6,
     "metadata": {},
     "output_type": "execute_result"
    },
    {
     "data": {
      "image/png": "[encoded data removed]",
      "text/plain": [
       "<Figure size 432x288 with 2 Axes>"
      ]
     },
     "metadata": {
      "needs_background": "light"
     },
     "output_type": "display_data"
    }
   ],
   "source": [
    "\n",
    "print(data.corr()) \n",
    "sns.heatmap(data.corr())"
   ]
  },
  {
   "cell_type": "markdown",
   "id": "3b567b83",
   "metadata": {
    "papermill": {
     "duration": 0.010688,
     "end_time": "2022-11-25T18:02:19.541868",
     "exception": false,
     "start_time": "2022-11-25T18:02:19.531180",
     "status": "completed"
    },
    "tags": []
   },
   "source": [
    "# #data info"
   ]
  },
  {
   "cell_type": "code",
   "execution_count": 7,
   "id": "216efbda",
   "metadata": {
    "execution": {
     "iopub.execute_input": "2022-11-25T18:02:19.564586Z",
     "iopub.status.busy": "2022-11-25T18:02:19.564174Z",
     "iopub.status.idle": "2022-11-25T18:02:19.587943Z",
     "shell.execute_reply": "2022-11-25T18:02:19.586559Z"
    },
    "papermill": {
     "duration": 0.037674,
     "end_time": "2022-11-25T18:02:19.590046",
     "exception": false,
     "start_time": "2022-11-25T18:02:19.552372",
     "status": "completed"
    },
    "tags": []
   },
   "outputs": [
    {
     "name": "stdout",
     "output_type": "stream",
     "text": [
      "<class 'pandas.core.frame.DataFrame'>\n",
      "RangeIndex: 620 entries, 0 to 619\n",
      "Data columns (total 29 columns):\n",
      " #   Column  Non-Null Count  Dtype  \n",
      "---  ------  --------------  -----  \n",
      " 0   f0      620 non-null    float64\n",
      " 1   f1      620 non-null    float64\n",
      " 2   f2      620 non-null    float64\n",
      " 3   f3      620 non-null    float64\n",
      " 4   f4      620 non-null    float64\n",
      " 5   f5      620 non-null    float64\n",
      " 6   f6      620 non-null    float64\n",
      " 7   f7      620 non-null    float64\n",
      " 8   f8      620 non-null    float64\n",
      " 9   f9      620 non-null    float64\n",
      " 10  f10     620 non-null    float64\n",
      " 11  f11     620 non-null    float64\n",
      " 12  f12     620 non-null    float64\n",
      " 13  f13     620 non-null    float64\n",
      " 14  f14     620 non-null    float64\n",
      " 15  f15     620 non-null    float64\n",
      " 16  f16     620 non-null    float64\n",
      " 17  f17     620 non-null    float64\n",
      " 18  f18     620 non-null    float64\n",
      " 19  f19     620 non-null    float64\n",
      " 20  f20     620 non-null    float64\n",
      " 21  f21     620 non-null    float64\n",
      " 22  f22     620 non-null    float64\n",
      " 23  f23     620 non-null    float64\n",
      " 24  f24     620 non-null    float64\n",
      " 25  f25     620 non-null    float64\n",
      " 26  f26     620 non-null    float64\n",
      " 27  f27     620 non-null    float64\n",
      " 28  grade   620 non-null    int64  \n",
      "dtypes: float64(28), int64(1)\n",
      "memory usage: 140.6 KB\n",
      "None\n"
     ]
    }
   ],
   "source": [
    "\n",
    "print(data.info()) "
   ]
  },
  {
   "cell_type": "markdown",
   "id": "8221cc95",
   "metadata": {
    "papermill": {
     "duration": 0.010724,
     "end_time": "2022-11-25T18:02:19.611774",
     "exception": false,
     "start_time": "2022-11-25T18:02:19.601050",
     "status": "completed"
    },
    "tags": []
   },
   "source": [
    "# #show data contain null data"
   ]
  },
  {
   "cell_type": "code",
   "execution_count": 8,
   "id": "b811eaf0",
   "metadata": {
    "execution": {
     "iopub.execute_input": "2022-11-25T18:02:19.635633Z",
     "iopub.status.busy": "2022-11-25T18:02:19.635310Z",
     "iopub.status.idle": "2022-11-25T18:02:19.643062Z",
     "shell.execute_reply": "2022-11-25T18:02:19.641264Z"
    },
    "papermill": {
     "duration": 0.022335,
     "end_time": "2022-11-25T18:02:19.645529",
     "exception": false,
     "start_time": "2022-11-25T18:02:19.623194",
     "status": "completed"
    },
    "tags": []
   },
   "outputs": [
    {
     "name": "stdout",
     "output_type": "stream",
     "text": [
      "f0       0\n",
      "f1       0\n",
      "f2       0\n",
      "f3       0\n",
      "f4       0\n",
      "f5       0\n",
      "f6       0\n",
      "f7       0\n",
      "f8       0\n",
      "f9       0\n",
      "f10      0\n",
      "f11      0\n",
      "f12      0\n",
      "f13      0\n",
      "f14      0\n",
      "f15      0\n",
      "f16      0\n",
      "f17      0\n",
      "f18      0\n",
      "f19      0\n",
      "f20      0\n",
      "f21      0\n",
      "f22      0\n",
      "f23      0\n",
      "f24      0\n",
      "f25      0\n",
      "f26      0\n",
      "f27      0\n",
      "grade    0\n",
      "dtype: int64\n"
     ]
    }
   ],
   "source": [
    "\n",
    "print(data.isnull().sum())"
   ]
  },
  {
   "cell_type": "markdown",
   "id": "164e451e",
   "metadata": {
    "papermill": {
     "duration": 0.010515,
     "end_time": "2022-11-25T18:02:19.667552",
     "exception": false,
     "start_time": "2022-11-25T18:02:19.657037",
     "status": "completed"
    },
    "tags": []
   },
   "source": [
    "# #show data contain dublicate data"
   ]
  },
  {
   "cell_type": "code",
   "execution_count": 9,
   "id": "d74f5cd1",
   "metadata": {
    "execution": {
     "iopub.execute_input": "2022-11-25T18:02:19.690456Z",
     "iopub.status.busy": "2022-11-25T18:02:19.690144Z",
     "iopub.status.idle": "2022-11-25T18:02:19.701791Z",
     "shell.execute_reply": "2022-11-25T18:02:19.700796Z"
    },
    "papermill": {
     "duration": 0.025778,
     "end_time": "2022-11-25T18:02:19.703976",
     "exception": false,
     "start_time": "2022-11-25T18:02:19.678198",
     "status": "completed"
    },
    "tags": []
   },
   "outputs": [
    {
     "name": "stdout",
     "output_type": "stream",
     "text": [
      "3\n"
     ]
    }
   ],
   "source": [
    "\n",
    "print(data.duplicated().sum())"
   ]
  },
  {
   "cell_type": "markdown",
   "id": "d7fe0224",
   "metadata": {
    "papermill": {
     "duration": 0.010978,
     "end_time": "2022-11-25T18:02:19.726198",
     "exception": false,
     "start_time": "2022-11-25T18:02:19.715220",
     "status": "completed"
    },
    "tags": []
   },
   "source": [
    "# #data describe"
   ]
  },
  {
   "cell_type": "code",
   "execution_count": 10,
   "id": "a6f70985",
   "metadata": {
    "execution": {
     "iopub.execute_input": "2022-11-25T18:02:19.751207Z",
     "iopub.status.busy": "2022-11-25T18:02:19.750163Z",
     "iopub.status.idle": "2022-11-25T18:02:19.816795Z",
     "shell.execute_reply": "2022-11-25T18:02:19.814947Z"
    },
    "papermill": {
     "duration": 0.080839,
     "end_time": "2022-11-25T18:02:19.818470",
     "exception": false,
     "start_time": "2022-11-25T18:02:19.737631",
     "status": "completed"
    },
    "tags": []
   },
   "outputs": [
    {
     "name": "stdout",
     "output_type": "stream",
     "text": [
      "                 f0          f1            f2            f3            f4  \\\n",
      "count  6.200000e+02  620.000000  6.200000e+02  6.200000e+02  6.200000e+02   \n",
      "mean   2.865092e-17    0.000000 -8.595275e-18  9.741312e-17 -2.721837e-17   \n",
      "std    1.000807e+00    1.000807  1.000807e+00  1.000807e+00  1.000807e+00   \n",
      "min   -8.250977e-01   -0.264250 -4.614228e-01 -2.442599e+00 -2.356907e+00   \n",
      "25%   -8.250977e-01   -0.264250 -4.614228e-01  4.093999e-01 -5.257260e-01   \n",
      "50%   -3.794874e-01   -0.264250 -4.614228e-01  4.093999e-01 -5.257260e-01   \n",
      "75%    5.117331e-01   -0.264250 -4.614228e-01  4.093999e-01  1.305455e+00   \n",
      "max    2.294174e+00    4.920404  3.032397e+00  4.093999e-01  1.305455e+00   \n",
      "\n",
      "                 f5            f6            f7            f8     f9  ...  \\\n",
      "count  6.200000e+02  6.200000e+02  6.200000e+02  6.200000e+02  620.0  ...   \n",
      "mean   5.730183e-18 -6.303202e-17 -1.217664e-16 -1.160362e-16    0.0  ...   \n",
      "std    1.000807e+00  1.000807e+00  1.000807e+00  1.000807e+00    0.0  ...   \n",
      "min   -2.761441e-01 -2.695676e+00 -1.109054e+01 -1.327888e+01    0.0  ...   \n",
      "25%   -2.761441e-01  3.709645e-01  9.016696e-02  1.079584e-01    0.0  ...   \n",
      "50%   -2.761441e-01  3.709645e-01  9.016696e-02  1.079584e-01    0.0  ...   \n",
      "75%   -2.761441e-01  3.709645e-01  9.016696e-02  1.079584e-01    0.0  ...   \n",
      "max    5.607339e+00  3.709645e-01  9.016696e-02  1.079584e-01    0.0  ...   \n",
      "\n",
      "                f19           f20           f21           f22           f23  \\\n",
      "count  6.200000e+02  6.200000e+02  6.200000e+02  6.200000e+02  6.200000e+02   \n",
      "mean   6.503758e-16  5.157165e-17 -5.730183e-18 -4.584147e-17  8.595275e-18   \n",
      "std    1.000807e+00  1.000807e+00  1.000807e+00  1.000807e+00  1.000807e+00   \n",
      "min   -1.316779e+01 -4.286607e+00 -1.080663e+00 -1.079838e+00 -1.899472e+00   \n",
      "25%    8.550514e-02  2.332847e-01 -1.080663e+00 -6.838333e-01 -4.063661e-01   \n",
      "50%    8.550514e-02  2.332847e-01  9.253580e-01 -4.593178e-01 -4.061213e-01   \n",
      "75%    8.550514e-02  2.332847e-01  9.253580e-01  4.432571e-01  1.160673e+00   \n",
      "max    8.550514e-02  2.332847e-01  9.253580e-01  3.150982e+00  1.833906e+00   \n",
      "\n",
      "                f24           f25           f26           f27       grade  \n",
      "count  6.200000e+02  6.200000e+02  6.200000e+02  6.200000e+02  620.000000  \n",
      "mean   1.117386e-16 -3.036997e-16  4.011128e-17  2.263422e-16    2.033871  \n",
      "std    1.000807e+00  1.000807e+00  1.000807e+00  1.000807e+00    0.630779  \n",
      "min   -6.876869e-01 -4.914855e+00 -2.324721e-01 -1.572780e+01    0.000000  \n",
      "25%   -6.876869e-01  2.718856e-01 -2.324721e-01  1.021286e-01    2.000000  \n",
      "50%   -3.659525e-01  2.718856e-01 -2.324721e-01  1.021286e-01    2.000000  \n",
      "75%   -2.870961e-01  2.718856e-01 -2.324721e-01  1.021286e-01    2.000000  \n",
      "max    1.877777e+00  2.718856e-01  4.519156e+00  1.021286e-01    4.000000  \n",
      "\n",
      "[8 rows x 29 columns]\n"
     ]
    }
   ],
   "source": [
    "\n",
    "print(data.describe())"
   ]
  },
  {
   "cell_type": "markdown",
   "id": "116696d6",
   "metadata": {
    "papermill": {
     "duration": 0.010888,
     "end_time": "2022-11-25T18:02:19.840706",
     "exception": false,
     "start_time": "2022-11-25T18:02:19.829818",
     "status": "completed"
    },
    "tags": []
   },
   "source": [
    "# #show input X and output y"
   ]
  },
  {
   "cell_type": "code",
   "execution_count": 11,
   "id": "d60c3891",
   "metadata": {
    "execution": {
     "iopub.execute_input": "2022-11-25T18:02:19.864796Z",
     "iopub.status.busy": "2022-11-25T18:02:19.864467Z",
     "iopub.status.idle": "2022-11-25T18:02:19.870940Z",
     "shell.execute_reply": "2022-11-25T18:02:19.869898Z"
    },
    "papermill": {
     "duration": 0.020789,
     "end_time": "2022-11-25T18:02:19.872746",
     "exception": false,
     "start_time": "2022-11-25T18:02:19.851957",
     "status": "completed"
    },
    "tags": []
   },
   "outputs": [
    {
     "name": "stdout",
     "output_type": "stream",
     "text": [
      "29\n",
      "(620, 28)\n",
      "(620, 1)\n"
     ]
    }
   ],
   "source": [
    "\n",
    "col=data.shape[1]\n",
    "X=data.iloc[:,0:col-1]\n",
    "y=data.iloc[:,col-1:col]\n",
    "print(col)\n",
    "print(X.shape)\n",
    "print(y.shape)"
   ]
  },
  {
   "cell_type": "markdown",
   "id": "bc5c5a43",
   "metadata": {
    "papermill": {
     "duration": 0.010663,
     "end_time": "2022-11-25T18:02:19.894252",
     "exception": false,
     "start_time": "2022-11-25T18:02:19.883589",
     "status": "completed"
    },
    "tags": []
   },
   "source": [
    "# #data spliting"
   ]
  },
  {
   "cell_type": "code",
   "execution_count": 12,
   "id": "8dc646b6",
   "metadata": {
    "execution": {
     "iopub.execute_input": "2022-11-25T18:02:19.918061Z",
     "iopub.status.busy": "2022-11-25T18:02:19.917717Z",
     "iopub.status.idle": "2022-11-25T18:02:19.926252Z",
     "shell.execute_reply": "2022-11-25T18:02:19.924210Z"
    },
    "papermill": {
     "duration": 0.025057,
     "end_time": "2022-11-25T18:02:19.930205",
     "exception": false,
     "start_time": "2022-11-25T18:02:19.905148",
     "status": "completed"
    },
    "tags": []
   },
   "outputs": [
    {
     "name": "stdout",
     "output_type": "stream",
     "text": [
      "X_train shape is  (415, 28)\n",
      "X_test shape is  (205, 28)\n",
      "y_train shape is  (415, 1)\n",
      "y_test shape is  (205, 1)\n"
     ]
    }
   ],
   "source": [
    "\n",
    "X_train, X_test, y_train, y_test = train_test_split(X, y, test_size=0.33, random_state=44, shuffle =True)\n",
    "print('X_train shape is ' , X_train.shape)\n",
    "print('X_test shape is ' , X_test.shape)\n",
    "print('y_train shape is ' , y_train.shape)\n",
    "print('y_test shape is ' , y_test.shape)"
   ]
  },
  {
   "cell_type": "markdown",
   "id": "eaf5a4e8",
   "metadata": {
    "papermill": {
     "duration": 0.011633,
     "end_time": "2022-11-25T18:02:19.953613",
     "exception": false,
     "start_time": "2022-11-25T18:02:19.941980",
     "status": "completed"
    },
    "tags": []
   },
   "source": [
    "# #Applying LogisticRegression Model "
   ]
  },
  {
   "cell_type": "code",
   "execution_count": 13,
   "id": "38cf9d31",
   "metadata": {
    "execution": {
     "iopub.execute_input": "2022-11-25T18:02:19.977525Z",
     "iopub.status.busy": "2022-11-25T18:02:19.977198Z",
     "iopub.status.idle": "2022-11-25T18:02:20.035159Z",
     "shell.execute_reply": "2022-11-25T18:02:20.033479Z"
    },
    "papermill": {
     "duration": 0.073476,
     "end_time": "2022-11-25T18:02:20.038242",
     "exception": false,
     "start_time": "2022-11-25T18:02:19.964766",
     "status": "completed"
    },
    "tags": []
   },
   "outputs": [
    {
     "name": "stderr",
     "output_type": "stream",
     "text": [
      "/opt/conda/lib/python3.7/site-packages/sklearn/utils/validation.py:993: DataConversionWarning: A column-vector y was passed when a 1d array was expected. Please change the shape of y to (n_samples, ), for example using ravel().\n",
      "  y = column_or_1d(y, warn=True)\n",
      "/opt/conda/lib/python3.7/site-packages/sklearn/linear_model/_sag.py:354: ConvergenceWarning: The max_iter was reached which means the coef_ did not converge\n",
      "  ConvergenceWarning,\n"
     ]
    },
    {
     "data": {
      "text/plain": [
       "LogisticRegression(C=1, random_state=33, solver='sag')"
      ]
     },
     "execution_count": 13,
     "metadata": {},
     "output_type": "execute_result"
    }
   ],
   "source": [
    "\n",
    "LogisticRegressionModel = LogisticRegression(penalty='l2',solver='sag',C=1,random_state=33)\n",
    "LogisticRegressionModel.fit(X_train, y_train)"
   ]
  },
  {
   "cell_type": "markdown",
   "id": "ee3320a0",
   "metadata": {
    "papermill": {
     "duration": 0.011,
     "end_time": "2022-11-25T18:02:20.061255",
     "exception": false,
     "start_time": "2022-11-25T18:02:20.050255",
     "status": "completed"
    },
    "tags": []
   },
   "source": [
    "# #Calculating Details"
   ]
  },
  {
   "cell_type": "code",
   "execution_count": 14,
   "id": "4e382c9d",
   "metadata": {
    "execution": {
     "iopub.execute_input": "2022-11-25T18:02:20.084711Z",
     "iopub.status.busy": "2022-11-25T18:02:20.084349Z",
     "iopub.status.idle": "2022-11-25T18:02:20.097991Z",
     "shell.execute_reply": "2022-11-25T18:02:20.096996Z"
    },
    "papermill": {
     "duration": 0.028147,
     "end_time": "2022-11-25T18:02:20.100271",
     "exception": false,
     "start_time": "2022-11-25T18:02:20.072124",
     "status": "completed"
    },
    "tags": []
   },
   "outputs": [
    {
     "name": "stdout",
     "output_type": "stream",
     "text": [
      "LogisticRegressionModel Train Score is :  0.9156626506024096\n",
      "LogisticRegressionModel Test Score is :  0.8536585365853658\n",
      "LogisticRegressionModel Classes are :  [0 1 2 3 4]\n",
      "LogisticRegressionModel No. of iteratios is :  [100]\n"
     ]
    }
   ],
   "source": [
    "\n",
    "print('LogisticRegressionModel Train Score is : ' , LogisticRegressionModel.score(X_train, y_train))\n",
    "print('LogisticRegressionModel Test Score is : ' , LogisticRegressionModel.score(X_test, y_test))\n",
    "print('LogisticRegressionModel Classes are : ' , LogisticRegressionModel.classes_)\n",
    "print('LogisticRegressionModel No. of iteratios is : ' , LogisticRegressionModel.n_iter_)"
   ]
  },
  {
   "cell_type": "markdown",
   "id": "ec482020",
   "metadata": {
    "papermill": {
     "duration": 0.011685,
     "end_time": "2022-11-25T18:02:20.125241",
     "exception": false,
     "start_time": "2022-11-25T18:02:20.113556",
     "status": "completed"
    },
    "tags": []
   },
   "source": [
    "# #Calculating Prediction"
   ]
  },
  {
   "cell_type": "code",
   "execution_count": 15,
   "id": "e1faed97",
   "metadata": {
    "execution": {
     "iopub.execute_input": "2022-11-25T18:02:20.150587Z",
     "iopub.status.busy": "2022-11-25T18:02:20.150257Z",
     "iopub.status.idle": "2022-11-25T18:02:20.163465Z",
     "shell.execute_reply": "2022-11-25T18:02:20.161461Z"
    },
    "papermill": {
     "duration": 0.029303,
     "end_time": "2022-11-25T18:02:20.166529",
     "exception": false,
     "start_time": "2022-11-25T18:02:20.137226",
     "status": "completed"
    },
    "tags": []
   },
   "outputs": [
    {
     "name": "stdout",
     "output_type": "stream",
     "text": [
      "Predicted Value for LogisticRegressionModel is :  [2 2 4 2 2 2 2 2 2 2]\n",
      "Prediction Probabilities Value for LogisticRegressionModel is :  [[8.95101162e-05 2.30408654e-01 7.67664449e-01 1.02865653e-03\n",
      "  8.08730395e-04]\n",
      " [9.26659518e-03 3.29589938e-01 6.52228412e-01 2.40753392e-03\n",
      "  6.50752124e-03]\n",
      " [7.38434859e-04 4.21596498e-04 3.57251368e-01 4.08597567e-04\n",
      "  6.41180003e-01]\n",
      " [9.99256391e-04 1.47581506e-02 9.81934734e-01 1.53882396e-03\n",
      "  7.69034851e-04]\n",
      " [3.77364971e-03 8.11485656e-03 9.57139947e-01 5.40331165e-03\n",
      "  2.55682347e-02]\n",
      " [2.45873168e-04 3.48578356e-01 6.50340374e-01 7.78544909e-04\n",
      "  5.68527800e-05]\n",
      " [1.92072614e-03 5.61090860e-02 9.41429091e-01 5.18343053e-04\n",
      "  2.27539258e-05]\n",
      " [5.77909102e-04 2.83526215e-05 9.73852097e-01 7.23484703e-05\n",
      "  2.54692932e-02]\n",
      " [1.72635887e-03 3.03508001e-02 9.29643863e-01 3.44994406e-03\n",
      "  3.48290337e-02]\n",
      " [5.12255343e-04 4.16463093e-01 5.79355431e-01 2.65192465e-03\n",
      "  1.01729556e-03]]\n"
     ]
    }
   ],
   "source": [
    "\n",
    "y_pred = LogisticRegressionModel.predict(X_test)\n",
    "y_pred_prob = LogisticRegressionModel.predict_proba(X_test)\n",
    "print('Predicted Value for LogisticRegressionModel is : ' , y_pred[:10])\n",
    "print('Prediction Probabilities Value for LogisticRegressionModel is : ' , y_pred_prob[:10])"
   ]
  },
  {
   "cell_type": "markdown",
   "id": "af6b223c",
   "metadata": {
    "papermill": {
     "duration": 0.011694,
     "end_time": "2022-11-25T18:02:20.190469",
     "exception": false,
     "start_time": "2022-11-25T18:02:20.178775",
     "status": "completed"
    },
    "tags": []
   },
   "source": [
    "# #Applying RandomForestClassifier Model "
   ]
  },
  {
   "cell_type": "code",
   "execution_count": 16,
   "id": "6d1fada1",
   "metadata": {
    "execution": {
     "iopub.execute_input": "2022-11-25T18:02:20.218899Z",
     "iopub.status.busy": "2022-11-25T18:02:20.217273Z",
     "iopub.status.idle": "2022-11-25T18:02:20.359474Z",
     "shell.execute_reply": "2022-11-25T18:02:20.357480Z"
    },
    "papermill": {
     "duration": 0.160018,
     "end_time": "2022-11-25T18:02:20.363313",
     "exception": false,
     "start_time": "2022-11-25T18:02:20.203295",
     "status": "completed"
    },
    "tags": []
   },
   "outputs": [
    {
     "name": "stderr",
     "output_type": "stream",
     "text": [
      "/opt/conda/lib/python3.7/site-packages/ipykernel_launcher.py:2: DataConversionWarning: A column-vector y was passed when a 1d array was expected. Please change the shape of y to (n_samples,), for example using ravel().\n",
      "  \n"
     ]
    },
    {
     "data": {
      "text/plain": [
       "RandomForestClassifier(max_depth=20, random_state=33)"
      ]
     },
     "execution_count": 16,
     "metadata": {},
     "output_type": "execute_result"
    }
   ],
   "source": [
    "\n",
    "RandomForestClassifierModel = RandomForestClassifier(criterion = 'gini',n_estimators=100,max_depth=20,random_state=33)\n",
    "RandomForestClassifierModel.fit(X_train, y_train)"
   ]
  },
  {
   "cell_type": "markdown",
   "id": "cac5a1de",
   "metadata": {
    "papermill": {
     "duration": 0.011771,
     "end_time": "2022-11-25T18:02:20.387806",
     "exception": false,
     "start_time": "2022-11-25T18:02:20.376035",
     "status": "completed"
    },
    "tags": []
   },
   "source": [
    "# #Calculating Details"
   ]
  },
  {
   "cell_type": "code",
   "execution_count": 17,
   "id": "079935f9",
   "metadata": {
    "execution": {
     "iopub.execute_input": "2022-11-25T18:02:20.413802Z",
     "iopub.status.busy": "2022-11-25T18:02:20.413436Z",
     "iopub.status.idle": "2022-11-25T18:02:20.464596Z",
     "shell.execute_reply": "2022-11-25T18:02:20.463032Z"
    },
    "papermill": {
     "duration": 0.067006,
     "end_time": "2022-11-25T18:02:20.466681",
     "exception": false,
     "start_time": "2022-11-25T18:02:20.399675",
     "status": "completed"
    },
    "tags": []
   },
   "outputs": [
    {
     "name": "stdout",
     "output_type": "stream",
     "text": [
      "RandomForestClassifierModel Train Score is :  0.9975903614457832\n",
      "RandomForestClassifierModel Test Score is :  0.9414634146341463\n",
      "RandomForestClassifierModel features importances are :  [0.07688458 0.01449721 0.1264668  0.01905991 0.05949767 0.03962983\n",
      " 0.02875082 0.00964841 0.01584341 0.         0.0171612  0.00839395\n",
      " 0.01285661 0.00782273 0.04713248 0.00944307 0.01407465 0.00568665\n",
      " 0.09827174 0.01528091 0.0037393  0.01800568 0.17064832 0.12128714\n",
      " 0.04896743 0.00749633 0.0023371  0.00111605]\n",
      "RandomForestClassifierModel Classes are :  [0 1 2 3 4]\n"
     ]
    }
   ],
   "source": [
    "\n",
    "print('RandomForestClassifierModel Train Score is : ' , RandomForestClassifierModel.score(X_train, y_train))\n",
    "print('RandomForestClassifierModel Test Score is : ' , RandomForestClassifierModel.score(X_test, y_test))\n",
    "print('RandomForestClassifierModel features importances are : ' , RandomForestClassifierModel.feature_importances_)\n",
    "print('RandomForestClassifierModel Classes are : ' , RandomForestClassifierModel.classes_)"
   ]
  },
  {
   "cell_type": "markdown",
   "id": "8f7ee136",
   "metadata": {
    "papermill": {
     "duration": 0.01128,
     "end_time": "2022-11-25T18:02:20.490096",
     "exception": false,
     "start_time": "2022-11-25T18:02:20.478816",
     "status": "completed"
    },
    "tags": []
   },
   "source": [
    "# #display RandomForestClassifierModel.feature_importances_"
   ]
  },
  {
   "cell_type": "code",
   "execution_count": 18,
   "id": "a4460b57",
   "metadata": {
    "execution": {
     "iopub.execute_input": "2022-11-25T18:02:20.515553Z",
     "iopub.status.busy": "2022-11-25T18:02:20.515178Z",
     "iopub.status.idle": "2022-11-25T18:02:20.723851Z",
     "shell.execute_reply": "2022-11-25T18:02:20.722714Z"
    },
    "papermill": {
     "duration": 0.22388,
     "end_time": "2022-11-25T18:02:20.725756",
     "exception": false,
     "start_time": "2022-11-25T18:02:20.501876",
     "status": "completed"
    },
    "tags": []
   },
   "outputs": [
    {
     "data": {
      "text/plain": [
       "<BarContainer object of 28 artists>"
      ]
     },
     "execution_count": 18,
     "metadata": {},
     "output_type": "execute_result"
    },
    {
     "data": {
      "image/png": "[encoded data removed]",
      "text/plain": [
       "<Figure size 432x288 with 1 Axes>"
      ]
     },
     "metadata": {
      "needs_background": "light"
     },
     "output_type": "display_data"
    }
   ],
   "source": [
    "\n",
    "plt.figure()\n",
    "X_bar=range(0,28)\n",
    "x_bar=list(X_bar)\n",
    "plt.bar(X_bar,RandomForestClassifierModel.feature_importances_)"
   ]
  },
  {
   "cell_type": "markdown",
   "id": "c93fe634",
   "metadata": {
    "papermill": {
     "duration": 0.01151,
     "end_time": "2022-11-25T18:02:20.749152",
     "exception": false,
     "start_time": "2022-11-25T18:02:20.737642",
     "status": "completed"
    },
    "tags": []
   },
   "source": [
    "# Calculating Prediction"
   ]
  },
  {
   "cell_type": "code",
   "execution_count": 19,
   "id": "ce0a23b3",
   "metadata": {
    "execution": {
     "iopub.execute_input": "2022-11-25T18:02:20.775797Z",
     "iopub.status.busy": "2022-11-25T18:02:20.775310Z",
     "iopub.status.idle": "2022-11-25T18:02:20.810030Z",
     "shell.execute_reply": "2022-11-25T18:02:20.809131Z"
    },
    "papermill": {
     "duration": 0.050307,
     "end_time": "2022-11-25T18:02:20.811946",
     "exception": false,
     "start_time": "2022-11-25T18:02:20.761639",
     "status": "completed"
    },
    "tags": []
   },
   "outputs": [
    {
     "name": "stdout",
     "output_type": "stream",
     "text": [
      "Predicted Value for RandomForestClassifierModel is :  [1 2 4 2 2 2 2 2 2 2]\n",
      "Prediction Probabilities Value for RandomForestClassifierModel is :  [[0.    0.536 0.464 0.    0.   ]\n",
      " [0.03  0.15  0.81  0.    0.01 ]\n",
      " [0.    0.    0.1   0.    0.9  ]\n",
      " [0.    0.    1.    0.    0.   ]\n",
      " [0.    0.    1.    0.    0.   ]\n",
      " [0.    0.075 0.925 0.    0.   ]\n",
      " [0.    0.15  0.85  0.    0.   ]\n",
      " [0.    0.01  0.96  0.    0.03 ]\n",
      " [0.    0.    0.99  0.01  0.   ]\n",
      " [0.    0.04  0.96  0.    0.   ]]\n"
     ]
    }
   ],
   "source": [
    "\n",
    "y_pred = RandomForestClassifierModel.predict(X_test)\n",
    "y_pred_prob = RandomForestClassifierModel.predict_proba(X_test)\n",
    "print('Predicted Value for RandomForestClassifierModel is : ' , y_pred[:10])\n",
    "print('Prediction Probabilities Value for RandomForestClassifierModel is : ' , y_pred_prob[:10])"
   ]
  },
  {
   "cell_type": "markdown",
   "id": "603dfe3d",
   "metadata": {
    "papermill": {
     "duration": 0.011711,
     "end_time": "2022-11-25T18:02:20.836631",
     "exception": false,
     "start_time": "2022-11-25T18:02:20.824920",
     "status": "completed"
    },
    "tags": []
   },
   "source": [
    "# #Calculating Confusion Matrix"
   ]
  },
  {
   "cell_type": "code",
   "execution_count": 20,
   "id": "5f53f084",
   "metadata": {
    "execution": {
     "iopub.execute_input": "2022-11-25T18:02:20.862951Z",
     "iopub.status.busy": "2022-11-25T18:02:20.862424Z",
     "iopub.status.idle": "2022-11-25T18:02:20.869137Z",
     "shell.execute_reply": "2022-11-25T18:02:20.867530Z"
    },
    "papermill": {
     "duration": 0.023398,
     "end_time": "2022-11-25T18:02:20.872052",
     "exception": false,
     "start_time": "2022-11-25T18:02:20.848654",
     "status": "completed"
    },
    "tags": []
   },
   "outputs": [
    {
     "name": "stdout",
     "output_type": "stream",
     "text": [
      "Confusion Matrix is : \n",
      " [[ 16   8   0   0]\n",
      " [  1 154   0   0]\n",
      " [  0   3  16   0]\n",
      " [  0   0   0   7]]\n"
     ]
    }
   ],
   "source": [
    "\n",
    "CM = confusion_matrix(y_test, y_pred)\n",
    "print('Confusion Matrix is : \\n', CM)"
   ]
  },
  {
   "cell_type": "markdown",
   "id": "a613e1db",
   "metadata": {
    "papermill": {
     "duration": 0.012127,
     "end_time": "2022-11-25T18:02:20.896227",
     "exception": false,
     "start_time": "2022-11-25T18:02:20.884100",
     "status": "completed"
    },
    "tags": []
   },
   "source": [
    "# drawing confusion matrix"
   ]
  },
  {
   "cell_type": "code",
   "execution_count": 21,
   "id": "83e5b5a1",
   "metadata": {
    "execution": {
     "iopub.execute_input": "2022-11-25T18:02:20.921814Z",
     "iopub.status.busy": "2022-11-25T18:02:20.921467Z",
     "iopub.status.idle": "2022-11-25T18:02:21.114706Z",
     "shell.execute_reply": "2022-11-25T18:02:21.113235Z"
    },
    "papermill": {
     "duration": 0.209176,
     "end_time": "2022-11-25T18:02:21.117291",
     "exception": false,
     "start_time": "2022-11-25T18:02:20.908115",
     "status": "completed"
    },
    "tags": []
   },
   "outputs": [
    {
     "data": {
      "text/plain": [
       "<AxesSubplot:>"
      ]
     },
     "execution_count": 21,
     "metadata": {},
     "output_type": "execute_result"
    },
    {
     "data": {
      "image/png": "[encoded data removed]",
      "text/plain": [
       "<Figure size 432x288 with 2 Axes>"
      ]
     },
     "metadata": {
      "needs_background": "light"
     },
     "output_type": "display_data"
    }
   ],
   "source": [
    "\n",
    "plt.figure()\n",
    "sns.heatmap(CM, center = True)"
   ]
  },
  {
   "cell_type": "markdown",
   "id": "1450ea55",
   "metadata": {
    "papermill": {
     "duration": 0.01189,
     "end_time": "2022-11-25T18:02:21.141605",
     "exception": false,
     "start_time": "2022-11-25T18:02:21.129715",
     "status": "completed"
    },
    "tags": []
   },
   "source": [
    "# Calculating Confusion Matrix"
   ]
  },
  {
   "cell_type": "code",
   "execution_count": 22,
   "id": "9c6cacba",
   "metadata": {
    "execution": {
     "iopub.execute_input": "2022-11-25T18:02:21.168833Z",
     "iopub.status.busy": "2022-11-25T18:02:21.168530Z",
     "iopub.status.idle": "2022-11-25T18:02:21.193749Z",
     "shell.execute_reply": "2022-11-25T18:02:21.191843Z"
    },
    "papermill": {
     "duration": 0.041694,
     "end_time": "2022-11-25T18:02:21.195895",
     "exception": false,
     "start_time": "2022-11-25T18:02:21.154201",
     "status": "completed"
    },
    "tags": []
   },
   "outputs": [
    {
     "name": "stdout",
     "output_type": "stream",
     "text": [
      "Confusion Matrix is : \n",
      " [[  6   0   0   0   0]\n",
      " [  0  44   0   0   0]\n",
      " [  0   1 316   0   0]\n",
      " [  0   0   0  28   0]\n",
      " [  0   0   0   0  20]]\n"
     ]
    }
   ],
   "source": [
    "\n",
    "CM = confusion_matrix(y_train,RandomForestClassifierModel.predict(X_train))\n",
    "print('Confusion Matrix is : \\n', CM)\n"
   ]
  },
  {
   "cell_type": "markdown",
   "id": "4c5f3f17",
   "metadata": {
    "papermill": {
     "duration": 0.011937,
     "end_time": "2022-11-25T18:02:21.220296",
     "exception": false,
     "start_time": "2022-11-25T18:02:21.208359",
     "status": "completed"
    },
    "tags": []
   },
   "source": [
    "#  drawing confusion matrix"
   ]
  },
  {
   "cell_type": "code",
   "execution_count": 23,
   "id": "084ee084",
   "metadata": {
    "execution": {
     "iopub.execute_input": "2022-11-25T18:02:21.246997Z",
     "iopub.status.busy": "2022-11-25T18:02:21.246116Z",
     "iopub.status.idle": "2022-11-25T18:02:21.444111Z",
     "shell.execute_reply": "2022-11-25T18:02:21.442216Z"
    },
    "papermill": {
     "duration": 0.214221,
     "end_time": "2022-11-25T18:02:21.446548",
     "exception": false,
     "start_time": "2022-11-25T18:02:21.232327",
     "status": "completed"
    },
    "tags": []
   },
   "outputs": [
    {
     "data": {
      "text/plain": [
       "<AxesSubplot:>"
      ]
     },
     "execution_count": 23,
     "metadata": {},
     "output_type": "execute_result"
    },
    {
     "data": {
      "image/png": "[encoded data removed]",
      "text/plain": [
       "<Figure size 432x288 with 2 Axes>"
      ]
     },
     "metadata": {
      "needs_background": "light"
     },
     "output_type": "display_data"
    }
   ],
   "source": [
    "\n",
    "plt.figure()\n",
    "sns.heatmap(CM, center = True)"
   ]
  },
  {
   "cell_type": "markdown",
   "id": "d78c3e55",
   "metadata": {
    "papermill": {
     "duration": 0.013267,
     "end_time": "2022-11-25T18:02:21.472523",
     "exception": false,
     "start_time": "2022-11-25T18:02:21.459256",
     "status": "completed"
    },
    "tags": []
   },
   "source": [
    "# Calculating Accuracy Score  : ((TP + TN) / float(TP + TN + FP + FN))"
   ]
  },
  {
   "cell_type": "code",
   "execution_count": 24,
   "id": "1fe34b87",
   "metadata": {
    "execution": {
     "iopub.execute_input": "2022-11-25T18:02:21.499667Z",
     "iopub.status.busy": "2022-11-25T18:02:21.499299Z",
     "iopub.status.idle": "2022-11-25T18:02:21.505005Z",
     "shell.execute_reply": "2022-11-25T18:02:21.504375Z"
    },
    "papermill": {
     "duration": 0.021932,
     "end_time": "2022-11-25T18:02:21.507194",
     "exception": false,
     "start_time": "2022-11-25T18:02:21.485262",
     "status": "completed"
    },
    "tags": []
   },
   "outputs": [
    {
     "name": "stdout",
     "output_type": "stream",
     "text": [
      "Accuracy Score is :  0.9414634146341463\n"
     ]
    }
   ],
   "source": [
    "\n",
    "AccScore = accuracy_score(y_test, y_pred, normalize=True)\n",
    "print('Accuracy Score is : ', AccScore)"
   ]
  },
  {
   "cell_type": "markdown",
   "id": "48b58ab9",
   "metadata": {
    "papermill": {
     "duration": 0.012744,
     "end_time": "2022-11-25T18:02:21.533301",
     "exception": false,
     "start_time": "2022-11-25T18:02:21.520557",
     "status": "completed"
    },
    "tags": []
   },
   "source": [
    "# Calculating F1 Score  : 2 * (precision * recall) / (precision + recall)"
   ]
  },
  {
   "cell_type": "code",
   "execution_count": 25,
   "id": "d113f109",
   "metadata": {
    "execution": {
     "iopub.execute_input": "2022-11-25T18:02:21.560618Z",
     "iopub.status.busy": "2022-11-25T18:02:21.560263Z",
     "iopub.status.idle": "2022-11-25T18:02:21.567674Z",
     "shell.execute_reply": "2022-11-25T18:02:21.566294Z"
    },
    "papermill": {
     "duration": 0.0236,
     "end_time": "2022-11-25T18:02:21.569833",
     "exception": false,
     "start_time": "2022-11-25T18:02:21.546233",
     "status": "completed"
    },
    "tags": []
   },
   "outputs": [
    {
     "name": "stdout",
     "output_type": "stream",
     "text": [
      "F1 Score is :  0.9414634146341464\n"
     ]
    }
   ],
   "source": [
    "\n",
    "F1Score = f1_score(y_test, y_pred, average='micro') \n",
    "print('F1 Score is : ', F1Score)"
   ]
  },
  {
   "cell_type": "markdown",
   "id": "412d9448",
   "metadata": {
    "papermill": {
     "duration": 0.013155,
     "end_time": "2022-11-25T18:02:21.596910",
     "exception": false,
     "start_time": "2022-11-25T18:02:21.583755",
     "status": "completed"
    },
    "tags": []
   },
   "source": [
    "# Calculating Precision Score : (Specificity) #(TP / float(TP + FP))  "
   ]
  },
  {
   "cell_type": "code",
   "execution_count": 26,
   "id": "99597b50",
   "metadata": {
    "execution": {
     "iopub.execute_input": "2022-11-25T18:02:21.625575Z",
     "iopub.status.busy": "2022-11-25T18:02:21.624771Z",
     "iopub.status.idle": "2022-11-25T18:02:21.634493Z",
     "shell.execute_reply": "2022-11-25T18:02:21.631911Z"
    },
    "papermill": {
     "duration": 0.02661,
     "end_time": "2022-11-25T18:02:21.637238",
     "exception": false,
     "start_time": "2022-11-25T18:02:21.610628",
     "status": "completed"
    },
    "tags": []
   },
   "outputs": [
    {
     "name": "stdout",
     "output_type": "stream",
     "text": [
      "Precision Score is :  0.9414634146341463\n"
     ]
    }
   ],
   "source": [
    "\n",
    "PrecisionScore = precision_score(y_test, y_pred, average='micro')\n",
    "print('Precision Score is : ', PrecisionScore)"
   ]
  },
  {
   "cell_type": "markdown",
   "id": "8ce0d93a",
   "metadata": {
    "papermill": {
     "duration": 0.012386,
     "end_time": "2022-11-25T18:02:21.662501",
     "exception": false,
     "start_time": "2022-11-25T18:02:21.650115",
     "status": "completed"
    },
    "tags": []
   },
   "source": [
    "# read test data"
   ]
  },
  {
   "cell_type": "code",
   "execution_count": 27,
   "id": "f4a03d94",
   "metadata": {
    "execution": {
     "iopub.execute_input": "2022-11-25T18:02:21.689143Z",
     "iopub.status.busy": "2022-11-25T18:02:21.688790Z",
     "iopub.status.idle": "2022-11-25T18:02:21.702787Z",
     "shell.execute_reply": "2022-11-25T18:02:21.700879Z"
    },
    "papermill": {
     "duration": 0.030046,
     "end_time": "2022-11-25T18:02:21.705129",
     "exception": false,
     "start_time": "2022-11-25T18:02:21.675083",
     "status": "completed"
    },
    "tags": []
   },
   "outputs": [],
   "source": [
    "\n",
    "test_data=pd.read_csv('/kaggle/input/metalfurnace/Test1.csv')"
   ]
  },
  {
   "cell_type": "markdown",
   "id": "50acd292",
   "metadata": {
    "papermill": {
     "duration": 0.013055,
     "end_time": "2022-11-25T18:02:21.731879",
     "exception": false,
     "start_time": "2022-11-25T18:02:21.718824",
     "status": "completed"
    },
    "tags": []
   },
   "source": [
    "# print 5 frist test data"
   ]
  },
  {
   "cell_type": "code",
   "execution_count": 28,
   "id": "9755ce01",
   "metadata": {
    "execution": {
     "iopub.execute_input": "2022-11-25T18:02:21.760033Z",
     "iopub.status.busy": "2022-11-25T18:02:21.759506Z",
     "iopub.status.idle": "2022-11-25T18:02:21.774051Z",
     "shell.execute_reply": "2022-11-25T18:02:21.771998Z"
    },
    "papermill": {
     "duration": 0.031686,
     "end_time": "2022-11-25T18:02:21.776551",
     "exception": false,
     "start_time": "2022-11-25T18:02:21.744865",
     "status": "completed"
    },
    "tags": []
   },
   "outputs": [
    {
     "name": "stdout",
     "output_type": "stream",
     "text": [
      "         f0        f1        f2        f3        f4       f5        f6  \\\n",
      "0 -0.837812 -0.273636  1.276580  0.463262 -0.585142 -0.24287  0.349804   \n",
      "1  2.078087 -0.273636 -0.496119  0.463262 -2.438092 -0.24287  0.349804   \n",
      "2 -0.837812 -0.273636  1.276580  0.463262 -0.585142 -0.24287  0.349804   \n",
      "3 -0.837812 -0.273636 -0.496119  0.463262  1.267808 -0.24287 -2.858743   \n",
      "4 -0.837812 -0.273636 -0.496119  0.463262 -0.585142 -0.24287 -2.858743   \n",
      "\n",
      "        f7        f8       f9  ...       f18      f19      f20       f21  \\\n",
      "0  0.12356  0.166795  0.06143  ...  0.197642  0.06143  0.27735  0.886135   \n",
      "1  0.12356  0.166795  0.06143  ... -5.059644  0.06143  0.27735  0.886135   \n",
      "2  0.12356  0.166795  0.06143  ...  0.197642  0.06143  0.27735 -1.128496   \n",
      "3  0.12356  0.166795  0.06143  ... -5.059644  0.06143  0.27735 -1.128496   \n",
      "4  0.12356  0.166795  0.06143  ...  0.197642  0.06143  0.27735 -1.128496   \n",
      "\n",
      "        f22       f23       f24       f25       f26       f27  \n",
      "0 -0.568935  1.100428 -0.244589  0.229718 -0.217109  0.087039  \n",
      "1  0.504299 -0.434268 -0.244040  0.229718 -0.217109  0.087039  \n",
      "2 -0.568935 -0.434268 -0.662763  0.229718 -0.217109  0.087039  \n",
      "3 -0.449819 -1.918647 -0.662763  0.229718 -0.217109  0.087039  \n",
      "4 -0.568935 -0.434268 -0.662763  0.229718 -0.217109  0.087039  \n",
      "\n",
      "[5 rows x 28 columns]\n"
     ]
    }
   ],
   "source": [
    "\n",
    "print(test_data.head())"
   ]
  },
  {
   "cell_type": "markdown",
   "id": "dfab18e2",
   "metadata": {
    "papermill": {
     "duration": 0.012534,
     "end_time": "2022-11-25T18:02:21.802021",
     "exception": false,
     "start_time": "2022-11-25T18:02:21.789487",
     "status": "completed"
    },
    "tags": []
   },
   "source": [
    "# print test data columns"
   ]
  },
  {
   "cell_type": "code",
   "execution_count": 29,
   "id": "a5fc2f76",
   "metadata": {
    "execution": {
     "iopub.execute_input": "2022-11-25T18:02:21.830387Z",
     "iopub.status.busy": "2022-11-25T18:02:21.829201Z",
     "iopub.status.idle": "2022-11-25T18:02:21.834712Z",
     "shell.execute_reply": "2022-11-25T18:02:21.834104Z"
    },
    "papermill": {
     "duration": 0.022074,
     "end_time": "2022-11-25T18:02:21.836853",
     "exception": false,
     "start_time": "2022-11-25T18:02:21.814779",
     "status": "completed"
    },
    "tags": []
   },
   "outputs": [
    {
     "name": "stdout",
     "output_type": "stream",
     "text": [
      "column 1 is :  f0\n",
      "column 2 is :  f1\n",
      "column 3 is :  f2\n",
      "column 4 is :  f3\n",
      "column 5 is :  f4\n",
      "column 6 is :  f5\n",
      "column 7 is :  f6\n",
      "column 8 is :  f7\n",
      "column 9 is :  f8\n",
      "column 10 is :  f9\n",
      "column 11 is :  f10\n",
      "column 12 is :  f11\n",
      "column 13 is :  f12\n",
      "column 14 is :  f13\n",
      "column 15 is :  f14\n",
      "column 16 is :  f15\n",
      "column 17 is :  f16\n",
      "column 18 is :  f17\n",
      "column 19 is :  f18\n",
      "column 20 is :  f19\n",
      "column 21 is :  f20\n",
      "column 22 is :  f21\n",
      "column 23 is :  f22\n",
      "column 24 is :  f23\n",
      "column 25 is :  f24\n",
      "column 26 is :  f25\n",
      "column 27 is :  f26\n",
      "column 28 is :  f27\n"
     ]
    }
   ],
   "source": [
    "\n",
    "x=1\n",
    "for col in test_data.columns:\n",
    "    print(f'column {x} is : ',col)\n",
    "    x+=1"
   ]
  },
  {
   "cell_type": "markdown",
   "id": "f1d20760",
   "metadata": {
    "papermill": {
     "duration": 0.012582,
     "end_time": "2022-11-25T18:02:21.862782",
     "exception": false,
     "start_time": "2022-11-25T18:02:21.850200",
     "status": "completed"
    },
    "tags": []
   },
   "source": [
    "# predict test_data  "
   ]
  },
  {
   "cell_type": "code",
   "execution_count": 30,
   "id": "55f8f337",
   "metadata": {
    "execution": {
     "iopub.execute_input": "2022-11-25T18:02:21.890772Z",
     "iopub.status.busy": "2022-11-25T18:02:21.889874Z",
     "iopub.status.idle": "2022-11-25T18:02:21.908494Z",
     "shell.execute_reply": "2022-11-25T18:02:21.907793Z"
    },
    "papermill": {
     "duration": 0.035075,
     "end_time": "2022-11-25T18:02:21.910767",
     "exception": false,
     "start_time": "2022-11-25T18:02:21.875692",
     "status": "completed"
    },
    "tags": []
   },
   "outputs": [],
   "source": [
    "  \n",
    "submision=RandomForestClassifierModel.predict(test_data) "
   ]
  },
  {
   "cell_type": "markdown",
   "id": "21d51184",
   "metadata": {
    "papermill": {
     "duration": 0.012996,
     "end_time": "2022-11-25T18:02:21.937906",
     "exception": false,
     "start_time": "2022-11-25T18:02:21.924910",
     "status": "completed"
    },
    "tags": []
   },
   "source": [
    "# predict test_data is csv"
   ]
  },
  {
   "cell_type": "code",
   "execution_count": 31,
   "id": "e8f6f4a6",
   "metadata": {
    "execution": {
     "iopub.execute_input": "2022-11-25T18:02:21.965902Z",
     "iopub.status.busy": "2022-11-25T18:02:21.965243Z",
     "iopub.status.idle": "2022-11-25T18:02:21.972777Z",
     "shell.execute_reply": "2022-11-25T18:02:21.971989Z"
    },
    "papermill": {
     "duration": 0.023735,
     "end_time": "2022-11-25T18:02:21.974544",
     "exception": false,
     "start_time": "2022-11-25T18:02:21.950809",
     "status": "completed"
    },
    "tags": []
   },
   "outputs": [],
   "source": [
    "\n",
    "submision=pd.DataFrame(submision)\n",
    "submision.to_csv('submision.csv')"
   ]
  }
 ],
 "metadata": {
  "kernelspec": {
   "display_name": "Python 3",
   "language": "python",
   "name": "python3"
  },
  "language_info": {
   "codemirror_mode": {
    "name": "ipython",
    "version": 3
   },
   "file_extension": ".py",
   "mimetype": "text/x-python",
   "name": "python",
   "nbconvert_exporter": "python",
   "pygments_lexer": "ipython3",
   "version": "3.7.12"
  },
  "papermill": {
   "default_parameters": {},
   "duration": 14.720022,
   "end_time": "2022-11-25T18:02:22.710169",
   "environment_variables": {},
   "exception": null,
   "input_path": "__notebook__.ipynb",
   "output_path": "__notebook__.ipynb",
   "parameters": {},
   "start_time": "2022-11-25T18:02:07.990147",
   "version": "2.3.4"
  }
 },
 "nbformat": 4,
 "nbformat_minor": 5
}
